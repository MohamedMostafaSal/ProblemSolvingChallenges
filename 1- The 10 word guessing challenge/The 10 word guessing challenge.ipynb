{
  "nbformat": 4,
  "nbformat_minor": 0,
  "metadata": {
    "colab": {
      "name": "Copy of Gematria Technologies Challenge.ipynb",
      "provenance": [],
      "collapsed_sections": []
    },
    "kernelspec": {
      "display_name": "Python 3",
      "name": "python3"
    }
  },
  "cells": [
    {
      "cell_type": "markdown",
      "metadata": {
        "id": "XVbjffZjYDPf"
      },
      "source": [
        "Alice and Bob play the following game:\n",
        "\n",
        "- Alice chooses a 10-letter word from a fixed dictionary, uniformly at random\n",
        "- At each turn Bob proposes a word from the same dictionary\n",
        "- For each proposal, Alice returns the \"score\" of the proposed word: each correct letter gives 1 point, plus an additional point if it is at the right position.\n",
        "- The total score of Bob is the sum of scores over k rounds with k fixed to 5, 10 or 15.\n",
        "\n",
        "The goal is to maximize the score of Bob over 100 games  - where each game lasts k rounds - (or its expectation). The score is then normalized so that the maximum score is 100.\n",
        "\n",
        "You are allowed to use reasonable precomputation (less than one hour) and your code should play any game in a reasonable amount of time (less than a few minutes). Running time will also be considered in grading. You can use any library, even if it is not installed. To install a library with `pip`, just paste the command with `!` before: `!pip install numpy` (this one is already installed).\n",
        "\n",
        "Create a copy of this notebook that you will put in the Google form. Runtime > Run all should execute your code without error. If you have suggestions for improvements, feel free to add them and we might take them into account in the evaluation."
      ]
    },
    {
      "cell_type": "markdown",
      "metadata": {
        "id": "KW87Bz3jcv8n"
      },
      "source": [
        "## Testing code\n",
        "\n",
        "Execute the code below to download the word list and define the testing class.\n",
        "It is recommended to read this code. \n",
        "\n",
        "**DO NOT MODIFY ANYTHING IN THIS SECTION**"
      ]
    },
    {
      "cell_type": "code",
      "metadata": {
        "id": "M0-yv_qHcuva"
      },
      "source": [
        "!wget -nc https://gematria.tech/words_10.txt 2> /dev/null"
      ],
      "execution_count": null,
      "outputs": []
    },
    {
      "cell_type": "code",
      "metadata": {
        "id": "7ARR6_UDeZre"
      },
      "source": [
        "from collections import Counter\n",
        "\n",
        "def score(word1, word2):\n",
        "    \"\"\"scoring function\n",
        "    \"\"\"\n",
        "    assert len(word1) == len(word2)\n",
        "    ans = 0\n",
        "    hist = Counter(word1)\n",
        "    for c in word2:\n",
        "        if hist[c]:\n",
        "            hist[c] -= 1\n",
        "            ans += 1\n",
        "    for c1, c2 in zip(word1, word2):\n",
        "        ans += c1 == c2\n",
        "    return ans\n",
        "\n",
        "assert score(\"abc\", \"abd\") == 4\n",
        "assert score(\"abc\", \"bca\") == 3 "
      ],
      "execution_count": null,
      "outputs": []
    },
    {
      "cell_type": "code",
      "metadata": {
        "id": "2kcLFrasYpFb",
        "colab": {
          "base_uri": "https://localhost:8080/"
        },
        "outputId": "5fb62b55-1fd6-4f7f-e34e-5caefe018710"
      },
      "source": [
        "import random\n",
        "from tqdm.autonotebook import tqdm\n",
        "\n",
        "class Simulator:\n",
        "    def __init__(self, path=\"words_10.txt\"):\n",
        "        with open(path) as f:\n",
        "            self.words = list(map(str.strip, f))\n",
        "            self.words_set = self.words\n",
        "\n",
        "    def play(self, bob, rounds):\n",
        "        total_score = 0\n",
        "        word = random.choice(self.words)\n",
        "        bob.new_game()\n",
        "        for _ in range(rounds):\n",
        "            guess = bob.guess()\n",
        "            if guess not in self.words_set:\n",
        "                return 0\n",
        "            s = score(word, guess)\n",
        "            bob.clue(s)\n",
        "            total_score += s\n",
        "        return total_score\n",
        "\n",
        "    def score(self, bob, games, rounds):\n",
        "        ans = sum(self.play(bob, rounds) for _ in tqdm(range(games)))\n",
        "        return 10_000 * ans / games / rounds // 20 / 100 \n"
      ],
      "execution_count": null,
      "outputs": [
        {
          "output_type": "stream",
          "name": "stderr",
          "text": [
            "/usr/local/lib/python3.7/dist-packages/ipykernel_launcher.py:2: TqdmExperimentalWarning: Using `tqdm.autonotebook.tqdm` in notebook mode. Use `tqdm.tqdm` instead to force console mode (e.g. in jupyter console)\n",
            "  \n"
          ]
        }
      ]
    },
    {
      "cell_type": "code",
      "metadata": {
        "id": "Z5HZCNgumMVP"
      },
      "source": [
        "class ExampleBob:\n",
        "    \"\"\"\n",
        "    You should copy and modify this code to implement your solution\n",
        "    \"\"\"\n",
        "    def __init__(self, words, rounds):\n",
        "        \"\"\"\n",
        "        Call this only once to create your player. Any precomputation should go here.\n",
        "        \"\"\"\n",
        "        self.words = words\n",
        "        self.rounds = rounds\n",
        "        \n",
        "    def new_game(self):\n",
        "        \"\"\"\n",
        "        Prepare for a new game\n",
        "        \"\"\"\n",
        "        pass\n",
        "\n",
        "    def guess(self):\n",
        "        \"\"\"\n",
        "        Make a new guess\n",
        "        \"\"\"\n",
        "        return random.choice(self.words)\n",
        "\n",
        "    def clue(self, score):\n",
        "        \"\"\"\n",
        "        The last guess got this score.\n",
        "        \"\"\"\n",
        "        pass\n"
      ],
      "execution_count": null,
      "outputs": []
    },
    {
      "cell_type": "code",
      "metadata": {
        "colab": {
          "base_uri": "https://localhost:8080/",
          "height": 361
        },
        "id": "moQiCYESPHoM",
        "outputId": "714a9326-f304-4ba5-b9b6-a1f161b078e5"
      },
      "source": [
        "from time import time\n",
        "\n",
        "simulator = Simulator()\n",
        "\n",
        "for rounds in [5, 10, 15]:\n",
        "    t = time()\n",
        "    bob = ExampleBob(simulator.words.copy(), rounds)\n",
        "    print('%.02f s' % (time() - t))\n",
        "    print(\"score\", simulator.score(bob, games=100, rounds=rounds))\n"
      ],
      "execution_count": null,
      "outputs": [
        {
          "output_type": "error",
          "ename": "FileNotFoundError",
          "evalue": "ignored",
          "traceback": [
            "\u001b[0;31m---------------------------------------------------------------------------\u001b[0m",
            "\u001b[0;31mFileNotFoundError\u001b[0m                         Traceback (most recent call last)",
            "\u001b[0;32m<ipython-input-5-e0073c6db412>\u001b[0m in \u001b[0;36m<module>\u001b[0;34m()\u001b[0m\n\u001b[1;32m      1\u001b[0m \u001b[0;32mfrom\u001b[0m \u001b[0mtime\u001b[0m \u001b[0;32mimport\u001b[0m \u001b[0mtime\u001b[0m\u001b[0;34m\u001b[0m\u001b[0;34m\u001b[0m\u001b[0m\n\u001b[1;32m      2\u001b[0m \u001b[0;34m\u001b[0m\u001b[0m\n\u001b[0;32m----> 3\u001b[0;31m \u001b[0msimulator\u001b[0m \u001b[0;34m=\u001b[0m \u001b[0mSimulator\u001b[0m\u001b[0;34m(\u001b[0m\u001b[0;34m)\u001b[0m\u001b[0;34m\u001b[0m\u001b[0;34m\u001b[0m\u001b[0m\n\u001b[0m\u001b[1;32m      4\u001b[0m \u001b[0;34m\u001b[0m\u001b[0m\n\u001b[1;32m      5\u001b[0m \u001b[0;32mfor\u001b[0m \u001b[0mrounds\u001b[0m \u001b[0;32min\u001b[0m \u001b[0;34m[\u001b[0m\u001b[0;36m5\u001b[0m\u001b[0;34m,\u001b[0m \u001b[0;36m10\u001b[0m\u001b[0;34m,\u001b[0m \u001b[0;36m15\u001b[0m\u001b[0;34m]\u001b[0m\u001b[0;34m:\u001b[0m\u001b[0;34m\u001b[0m\u001b[0;34m\u001b[0m\u001b[0m\n",
            "\u001b[0;32m<ipython-input-3-1d27e9c4d109>\u001b[0m in \u001b[0;36m__init__\u001b[0;34m(self, path)\u001b[0m\n\u001b[1;32m      4\u001b[0m \u001b[0;32mclass\u001b[0m \u001b[0mSimulator\u001b[0m\u001b[0;34m:\u001b[0m\u001b[0;34m\u001b[0m\u001b[0;34m\u001b[0m\u001b[0m\n\u001b[1;32m      5\u001b[0m     \u001b[0;32mdef\u001b[0m \u001b[0m__init__\u001b[0m\u001b[0;34m(\u001b[0m\u001b[0mself\u001b[0m\u001b[0;34m,\u001b[0m \u001b[0mpath\u001b[0m\u001b[0;34m=\u001b[0m\u001b[0;34m\"words_10.txt\"\u001b[0m\u001b[0;34m)\u001b[0m\u001b[0;34m:\u001b[0m\u001b[0;34m\u001b[0m\u001b[0;34m\u001b[0m\u001b[0m\n\u001b[0;32m----> 6\u001b[0;31m         \u001b[0;32mwith\u001b[0m \u001b[0mopen\u001b[0m\u001b[0;34m(\u001b[0m\u001b[0mpath\u001b[0m\u001b[0;34m)\u001b[0m \u001b[0;32mas\u001b[0m \u001b[0mf\u001b[0m\u001b[0;34m:\u001b[0m\u001b[0;34m\u001b[0m\u001b[0;34m\u001b[0m\u001b[0m\n\u001b[0m\u001b[1;32m      7\u001b[0m             \u001b[0mself\u001b[0m\u001b[0;34m.\u001b[0m\u001b[0mwords\u001b[0m \u001b[0;34m=\u001b[0m \u001b[0mlist\u001b[0m\u001b[0;34m(\u001b[0m\u001b[0mmap\u001b[0m\u001b[0;34m(\u001b[0m\u001b[0mstr\u001b[0m\u001b[0;34m.\u001b[0m\u001b[0mstrip\u001b[0m\u001b[0;34m,\u001b[0m \u001b[0mf\u001b[0m\u001b[0;34m)\u001b[0m\u001b[0;34m)\u001b[0m\u001b[0;34m\u001b[0m\u001b[0;34m\u001b[0m\u001b[0m\n\u001b[1;32m      8\u001b[0m             \u001b[0mself\u001b[0m\u001b[0;34m.\u001b[0m\u001b[0mwords_set\u001b[0m \u001b[0;34m=\u001b[0m \u001b[0mself\u001b[0m\u001b[0;34m.\u001b[0m\u001b[0mwords\u001b[0m\u001b[0;34m\u001b[0m\u001b[0;34m\u001b[0m\u001b[0m\n",
            "\u001b[0;31mFileNotFoundError\u001b[0m: [Errno 2] No such file or directory: 'words_10.txt'"
          ]
        }
      ]
    },
    {
      "cell_type": "markdown",
      "metadata": {
        "id": "vClJL5GqiPnS"
      },
      "source": [
        "## Your code\n",
        "\n",
        "This is the only section you should modify. You can add any number of cells. Comments are welcome but not necessary."
      ]
    },
    {
      "cell_type": "code",
      "metadata": {
        "id": "u4Zp4kZy6FTH"
      },
      "source": [
        "from tqdm.autonotebook import tqdm\n",
        "## was planning to use this as a preproccessing but realised they're only 100 games and i don;t hve time atm\n",
        "path=\"words_10.txt\"\n",
        "with open(path) as f:\n",
        "  words = list(map(str.strip, f))\n",
        "\n",
        "mat =[]\n",
        "w1 = words\n",
        "w2 = words\n",
        "\n",
        "for i in w1:\n",
        "  temp = []\n",
        "  for j in w2:\n",
        "    temp.append(score(i,j)) \n",
        "  mat.append(temp)\n",
        "\n",
        "for row in mat:\n",
        "  print(row)\n",
        "\n",
        "\"\"\"\n",
        "Creating a 2D lookup table to try to get the values determining the actual word and reduce the number of needed geusses to find a word\n",
        "\"\"\""
      ],
      "execution_count": null,
      "outputs": []
    },
    {
      "cell_type": "code",
      "metadata": {
        "id": "QZj8tdh4hFwe"
      },
      "source": [
        "class Bob:\n",
        "    \"\"\"\n",
        "    You should only modify this code\n",
        "    \"\"\"\n",
        "    \n",
        "    def __init__(self, words, rounds):\n",
        "        \"\"\"\n",
        "        Call this only once to create your player. Any precomputation should go here.\n",
        "        \"\"\"\n",
        "        self.words = words\n",
        "        self.rounds = rounds\n",
        "        ##self.createMatrix()\n",
        "       \n",
        "\n",
        "    def new_game(self):\n",
        "      ## initialising variables that are needed for every new word\n",
        "        self.old=\"          \"\n",
        "        self.score = 0\n",
        "        self.curr = \"          \"\n",
        "        self.guesses = [\"          \"]\n",
        "        self.colsOld = []\n",
        "        self.colsNew = []\n",
        "        ##print(\"NEW GAME\")\n",
        "        pass\n",
        "    \n",
        "    \"\"\"def createMatrix(self):##hidden due to very large run time o(n^2)\n",
        "        self.mat =[]\n",
        "        w1 = self.words\n",
        "        w2 = self.words\n",
        "        print(w1)\n",
        "        for i in w1:\n",
        "          temp = []\n",
        "          for j in w2:\n",
        "              temp.append(score(i,j)) \n",
        "          self.mat.append(temp)\"\"\"\n",
        "\n",
        "    def createScore(self,x): ## o(n) get the score for all the words that with a specific word\n",
        "        w1 = self.words[x]\n",
        "        w2 = self.words\n",
        "        ##print(len(w2))\n",
        "        temp = []\n",
        "        for j in w2:\n",
        "            temp.append(score(w1,j)) \n",
        "        return temp\n",
        "    \n",
        "    \n",
        "\n",
        "    \"\"\"def guess(self):\n",
        "    \n",
        "        Make a new guess\n",
        "         \n",
        "        ## Guess the word and try to find a second geuss that is similar to the score you gt from the simulation to improve the chaces of finding the best word\n",
        "        test = random.choice(self.words)\n",
        "        flag = True\n",
        "        while(flag):    \n",
        "          while(test in self.guesses):\n",
        "            test = random.choice(self.words)\n",
        "          count = score(self.curr, test)\n",
        "          \n",
        "          if(count == self.score):\n",
        "            flag = False\n",
        "          test = random.choice(self.words)\n",
        "\n",
        "        self.rounds+=1\n",
        "\n",
        "        ##print(count, self.score)\n",
        "        ##print(test)\n",
        "        \n",
        "        self.old = self.curr\n",
        "        self.curr = test\n",
        "        self.guesses.append(self.curr)\n",
        "        return self.curr\n",
        "  \"\"\"\n",
        "    def intersection(self,lst1, lst2):##https://www.geeksforgeeks.org/python-intersection-two-lists/ gets the intersection of 2 lists\n",
        "      lst3 = [value for value in lst1 if value in lst2]\n",
        "      return lst3\n",
        "\n",
        "    def GetIndex(self,lis, desired):##https://www.geeksforgeeks.org/python-duplicate-element-indices-in-list/ gets the index of variable des in a list lis\n",
        "      test_list = lis\n",
        "      des = desired\n",
        "      oc_set = set()\n",
        "      res = []\n",
        "      for idx, val in enumerate(test_list):\n",
        "        if val == des:\n",
        "          res.append(idx)     \n",
        "      return res\n",
        "\n",
        "    def guess(self): # my take on the guessing style \n",
        "      \n",
        "      if(self.curr == \"          \"): # if first time guess randomly\n",
        "        test = random.choice(self.words)\n",
        "        self.curr = test\n",
        "        self.guesses.append(self.curr)\n",
        "        ##print(\"first Guess: \",test)\n",
        "        return test\n",
        "      # for an iterative guess get the index of the guessed word\n",
        "      row = self.words.index(self.curr) \n",
        "      # then take that row and find the words that get the same scores when tested with the guessed word and put then in a new list colNew\n",
        "      self.colsNew = self.GetIndex(self.createScore(row),self.score) ## get the words that might equte to that same score\n",
        "      if self.score == 20: # if correct word found don't change anything\n",
        "        self.colsNew = [row]\n",
        "      if not self.colsOld: ## if old list is empty initialise it properly for the first iteration\n",
        "        ##print(\"I'm empty\")\n",
        "        self.colsOld = self.colsNew.copy()\n",
        "\n",
        "      ##print(self.colsOld)\n",
        "      ##print(self.colsNew)\n",
        "      ##print(self.score)\n",
        "\n",
        "      ##if self.score < 20 and len(self.colsNew)>0:\n",
        "      self.colsOld = self.intersection(self.colsOld, self.colsNew) # get the intersection of the first list and the secnd list to reduce the number of right possibe guesses\n",
        "      \n",
        "      wop = self.colsOld[0]\n",
        "      test = self.words[wop]\n",
        "      ##print(self.colsOld)\n",
        "      ##print(\"Geussing:\",test)\n",
        "      ##print(\"-----------------------------------------------------------------\")\n",
        "      \n",
        "      self.curr = test\n",
        "      self.guesses.append(self.curr)\n",
        "      return test\n",
        "\n",
        "    def clue(self, score):\n",
        "        \"\"\"\n",
        "        The last guess got this score.\n",
        "        \"\"\"\n",
        "        self.score = score\n",
        "        \"\"\"if self.score > score: #old way of thinking NVM this\n",
        "          ##print(self.score, \">\", score)\n",
        "          self.curr = self.old  \n",
        "          pass\n",
        "        if self.score <= score:\n",
        "          ##print(self.score, \"<\", score)\n",
        "          self.score = score \"\"\"\n",
        "        pass\n"
      ],
      "execution_count": null,
      "outputs": []
    },
    {
      "cell_type": "markdown",
      "metadata": {
        "id": "-UBolebtiale"
      },
      "source": [
        "# Evaluation\n",
        "\n",
        "**DO NOT MODIFY**"
      ]
    },
    {
      "cell_type": "code",
      "metadata": {
        "id": "mK7grRcoiZu9"
      },
      "source": [
        "from time import time\n",
        "\n",
        "simulator = Simulator()\n",
        "\n",
        "for rounds in [5, 10, 15]:\n",
        "    t = time()\n",
        "    bob = Bob(simulator.words.copy(), rounds)\n",
        "    print('%.02f s' % (time() - t))\n",
        "    print(\"score\", simulator.score(bob, games=100, rounds=rounds))\n"
      ],
      "execution_count": null,
      "outputs": []
    },
    {
      "cell_type": "code",
      "metadata": {
        "id": "rw_2MhibnIH-"
      },
      "source": [
        "mat = []\n",
        "w1 = [\"boy\",\"gir\", \"eat\", \"dri\"]\n",
        "w2 = [\"boy\",\"gir\", \"eat\", \"dri\"]\n",
        "for i in w1:\n",
        "  temp = []\n",
        "  for j in w2:\n",
        "      temp.append(score(i,j)) \n",
        "  mat.append(temp)\n",
        "for row in mat:\n",
        "  print(row)"
      ],
      "execution_count": null,
      "outputs": []
    },
    {
      "cell_type": "code",
      "metadata": {
        "id": "C0vIxk_BXPyU"
      },
      "source": [
        "\n",
        "test_list = [1, 4, 5, 5, 5, 9, 1]\n",
        "des = 5\n",
        "  \n",
        "\n",
        "oc_set = set()\n",
        "res = []\n",
        "for idx, val in enumerate(test_list):\n",
        "             \n",
        "    if val == des:\n",
        "        res.append(idx)     \n",
        "          \n",
        "# printing result\n",
        "print(res)"
      ],
      "execution_count": null,
      "outputs": []
    },
    {
      "cell_type": "code",
      "metadata": {
        "id": "392Vd9OGaZ88"
      },
      "source": [
        ""
      ],
      "execution_count": null,
      "outputs": []
    }
  ]
}